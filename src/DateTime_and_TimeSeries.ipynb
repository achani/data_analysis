{
 "cells": [
  {
   "cell_type": "markdown",
   "id": "6f046040-ab19-4fee-8a18-322fc9b8958e",
   "metadata": {},
   "source": [
    "## Tutorial 10 \n",
    "### Working with Dates and TimeSeries data\n"
   ]
  },
  {
   "cell_type": "code",
   "execution_count": 50,
   "id": "c519ac24-e842-4846-9a1d-a98a16f6681f",
   "metadata": {},
   "outputs": [],
   "source": [
    "import pandas as pd\n",
    "from pathlib import Path\n",
    "\n",
    "data_path = Path.cwd().parent / \"data\" / \"ETH-Daily.csv\" \n"
   ]
  },
  {
   "cell_type": "code",
   "execution_count": 51,
   "id": "029d0437-9ca8-45ef-b832-569aff411a6b",
   "metadata": {},
   "outputs": [],
   "source": [
    "import numpy as np"
   ]
  },
  {
   "cell_type": "code",
   "execution_count": 66,
   "id": "6175ab9b-6d69-45f7-b4c2-28f100fa2861",
   "metadata": {},
   "outputs": [],
   "source": [
    "df = pd.read_csv(data_path)"
   ]
  },
  {
   "cell_type": "code",
   "execution_count": 67,
   "id": "9c55b1f3-cdcc-4478-9ebe-46d219461bdc",
   "metadata": {},
   "outputs": [],
   "source": [
    "df[\"Symbol\"] = \"ETHUSD\"\n",
    "df['Open'] = df['Open'].str.replace(\",\",\"\")\n",
    "df['High'] = df['High'].str.replace(\",\",\"\")\n",
    "df['Low'] = df['Low'].str.replace(\",\",\"\")\n",
    "df['Close'] = df['Close'].str.replace(\",\",\"\")\n"
   ]
  },
  {
   "cell_type": "code",
   "execution_count": 68,
   "id": "14b6c651-f455-483b-ac03-c82a17edd405",
   "metadata": {},
   "outputs": [],
   "source": [
    "from random import randrange\n",
    "\n",
    "def randomize(val):\n",
    "    return str(round(float(val) + (randrange(-100, 100)*float(val)/ 1000), 2))\n",
    "\n",
    "def new_df(row, dt):\n",
    "    return pd.DataFrame({\"Datetime\": [dt + \" \" + str(h)+ \":00\" for h in range(24)],\n",
    "                        \"Open\": [randomize(row[\"Open\"].iloc[0]) for _ in range(24)],\n",
    "                         \"High\" : [randomize(row[\"High\"].iloc[0]) for _ in range(24)],\n",
    "                         \"Low\" : [randomize(row[\"Low\"].iloc[0]) for _ in range(24)],\n",
    "                         \"Close\" : [randomize(row[\"Close\"].iloc[0]) for _ in range(24)],\n",
    "                         \"Symbol\": [\"ETHUSD\" for _ in range(24)]})"
   ]
  },
  {
   "cell_type": "code",
   "execution_count": 69,
   "id": "0ca8cb4a-d80f-4a09-9b41-3744a18bb292",
   "metadata": {},
   "outputs": [
    {
     "data": {
      "text/html": [
       "<div>\n",
       "<style scoped>\n",
       "    .dataframe tbody tr th:only-of-type {\n",
       "        vertical-align: middle;\n",
       "    }\n",
       "\n",
       "    .dataframe tbody tr th {\n",
       "        vertical-align: top;\n",
       "    }\n",
       "\n",
       "    .dataframe thead th {\n",
       "        text-align: right;\n",
       "    }\n",
       "</style>\n",
       "<table border=\"1\" class=\"dataframe\">\n",
       "  <thead>\n",
       "    <tr style=\"text-align: right;\">\n",
       "      <th></th>\n",
       "      <th>Datetime</th>\n",
       "      <th>Open</th>\n",
       "      <th>High</th>\n",
       "      <th>Low</th>\n",
       "      <th>Close</th>\n",
       "      <th>Symbol</th>\n",
       "    </tr>\n",
       "  </thead>\n",
       "  <tbody>\n",
       "    <tr>\n",
       "      <th>0</th>\n",
       "      <td>2023-12-12 00:00:00</td>\n",
       "      <td>2316.67</td>\n",
       "      <td>2324.41</td>\n",
       "      <td>1971.46</td>\n",
       "      <td>2320.2</td>\n",
       "      <td>ETHUSD</td>\n",
       "    </tr>\n",
       "    <tr>\n",
       "      <th>1</th>\n",
       "      <td>2023-12-12 01:00:00</td>\n",
       "      <td>2179.22</td>\n",
       "      <td>2243.72</td>\n",
       "      <td>2296.43</td>\n",
       "      <td>2333.22</td>\n",
       "      <td>ETHUSD</td>\n",
       "    </tr>\n",
       "    <tr>\n",
       "      <th>2</th>\n",
       "      <td>2023-12-12 02:00:00</td>\n",
       "      <td>2157.05</td>\n",
       "      <td>2026.3</td>\n",
       "      <td>1993.12</td>\n",
       "      <td>2014.17</td>\n",
       "      <td>ETHUSD</td>\n",
       "    </tr>\n",
       "    <tr>\n",
       "      <th>3</th>\n",
       "      <td>2023-12-12 03:00:00</td>\n",
       "      <td>2409.78</td>\n",
       "      <td>2248.2</td>\n",
       "      <td>2010.46</td>\n",
       "      <td>1988.12</td>\n",
       "      <td>ETHUSD</td>\n",
       "    </tr>\n",
       "    <tr>\n",
       "      <th>4</th>\n",
       "      <td>2023-12-12 04:00:00</td>\n",
       "      <td>2354.36</td>\n",
       "      <td>2120.44</td>\n",
       "      <td>2001.79</td>\n",
       "      <td>2020.68</td>\n",
       "      <td>ETHUSD</td>\n",
       "    </tr>\n",
       "    <tr>\n",
       "      <th>...</th>\n",
       "      <td>...</td>\n",
       "      <td>...</td>\n",
       "      <td>...</td>\n",
       "      <td>...</td>\n",
       "      <td>...</td>\n",
       "      <td>...</td>\n",
       "    </tr>\n",
       "    <tr>\n",
       "      <th>739</th>\n",
       "      <td>2023-11-12 19:00:00</td>\n",
       "      <td>2084.37</td>\n",
       "      <td>1894.92</td>\n",
       "      <td>1890.87</td>\n",
       "      <td>1868.49</td>\n",
       "      <td>ETHUSD</td>\n",
       "    </tr>\n",
       "    <tr>\n",
       "      <th>740</th>\n",
       "      <td>2023-11-12 20:00:00</td>\n",
       "      <td>1967.78</td>\n",
       "      <td>2180.08</td>\n",
       "      <td>1818.22</td>\n",
       "      <td>2239.31</td>\n",
       "      <td>ETHUSD</td>\n",
       "    </tr>\n",
       "    <tr>\n",
       "      <th>741</th>\n",
       "      <td>2023-11-12 21:00:00</td>\n",
       "      <td>2137.56</td>\n",
       "      <td>2271.01</td>\n",
       "      <td>2128.99</td>\n",
       "      <td>1876.73</td>\n",
       "      <td>ETHUSD</td>\n",
       "    </tr>\n",
       "    <tr>\n",
       "      <th>742</th>\n",
       "      <td>2023-11-12 22:00:00</td>\n",
       "      <td>2090.51</td>\n",
       "      <td>2099.49</td>\n",
       "      <td>2199.62</td>\n",
       "      <td>1858.19</td>\n",
       "      <td>ETHUSD</td>\n",
       "    </tr>\n",
       "    <tr>\n",
       "      <th>743</th>\n",
       "      <td>2023-11-12 23:00:00</td>\n",
       "      <td>1990.28</td>\n",
       "      <td>1911.45</td>\n",
       "      <td>2046.25</td>\n",
       "      <td>2179.56</td>\n",
       "      <td>ETHUSD</td>\n",
       "    </tr>\n",
       "  </tbody>\n",
       "</table>\n",
       "<p>744 rows × 6 columns</p>\n",
       "</div>"
      ],
      "text/plain": [
       "               Datetime     Open     High      Low    Close  Symbol\n",
       "0   2023-12-12 00:00:00  2316.67  2324.41  1971.46   2320.2  ETHUSD\n",
       "1   2023-12-12 01:00:00  2179.22  2243.72  2296.43  2333.22  ETHUSD\n",
       "2   2023-12-12 02:00:00  2157.05   2026.3  1993.12  2014.17  ETHUSD\n",
       "3   2023-12-12 03:00:00  2409.78   2248.2  2010.46  1988.12  ETHUSD\n",
       "4   2023-12-12 04:00:00  2354.36  2120.44  2001.79  2020.68  ETHUSD\n",
       "..                  ...      ...      ...      ...      ...     ...\n",
       "739 2023-11-12 19:00:00  2084.37  1894.92  1890.87  1868.49  ETHUSD\n",
       "740 2023-11-12 20:00:00  1967.78  2180.08  1818.22  2239.31  ETHUSD\n",
       "741 2023-11-12 21:00:00  2137.56  2271.01  2128.99  1876.73  ETHUSD\n",
       "742 2023-11-12 22:00:00  2090.51  2099.49  2199.62  1858.19  ETHUSD\n",
       "743 2023-11-12 23:00:00  1990.28  1911.45  2046.25  2179.56  ETHUSD\n",
       "\n",
       "[744 rows x 6 columns]"
      ]
     },
     "execution_count": 69,
     "metadata": {},
     "output_type": "execute_result"
    }
   ],
   "source": [
    "dates = df['Date'].tolist()\n",
    "\n",
    "new_df = pd.concat([new_df(df[df['Date'] == d], d) for _,d in enumerate(dates)],axis=0,ignore_index=True)\n",
    "\n",
    "new_df['Datetime'] = pd.to_datetime(new_df['Datetime'])\n",
    "new_df\n"
   ]
  },
  {
   "cell_type": "code",
   "execution_count": 70,
   "id": "1c1a39c1-cf24-4a4b-b684-dcf96f441ccc",
   "metadata": {},
   "outputs": [
    {
     "data": {
      "text/plain": [
       "'Tuesday'"
      ]
     },
     "execution_count": 70,
     "metadata": {},
     "output_type": "execute_result"
    }
   ],
   "source": [
    "new_df.loc[0, 'Datetime'].day_name()"
   ]
  },
  {
   "cell_type": "code",
   "execution_count": 71,
   "id": "835ff502-295a-43db-835e-f212724128d9",
   "metadata": {},
   "outputs": [],
   "source": [
    "new_df.set_index(['Datetime'], inplace=True)\n"
   ]
  },
  {
   "cell_type": "code",
   "execution_count": 72,
   "id": "ffd5e24e-e066-40b1-bd2c-9c54ec3bb64c",
   "metadata": {},
   "outputs": [
    {
     "data": {
      "text/plain": [
       "Datetime\n",
       "2023-11-12 00:00:00    2190.42\n",
       "2023-11-12 01:00:00    2233.81\n",
       "2023-11-12 02:00:00    2140.82\n",
       "2023-11-12 03:00:00    2039.57\n",
       "2023-11-12 04:00:00    2173.88\n",
       "                        ...   \n",
       "2023-12-12 19:00:00    2409.59\n",
       "2023-12-12 20:00:00    2196.65\n",
       "2023-12-12 21:00:00    2194.41\n",
       "2023-12-12 22:00:00    2219.07\n",
       "2023-12-12 23:00:00    2066.64\n",
       "Freq: H, Name: High, Length: 744, dtype: object"
      ]
     },
     "execution_count": 72,
     "metadata": {},
     "output_type": "execute_result"
    }
   ],
   "source": [
    "new_df[\"High\"].resample(\"H\").max()"
   ]
  }
 ],
 "metadata": {
  "kernelspec": {
   "display_name": "Python 3 (ipykernel)",
   "language": "python",
   "name": "python3"
  },
  "language_info": {
   "codemirror_mode": {
    "name": "ipython",
    "version": 3
   },
   "file_extension": ".py",
   "mimetype": "text/x-python",
   "name": "python",
   "nbconvert_exporter": "python",
   "pygments_lexer": "ipython3",
   "version": "3.10.13"
  }
 },
 "nbformat": 4,
 "nbformat_minor": 5
}
